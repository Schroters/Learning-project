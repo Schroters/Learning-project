{
 "metadata": {
  "language_info": {
   "codemirror_mode": {
    "name": "ipython",
    "version": 3
   },
   "file_extension": ".py",
   "mimetype": "text/x-python",
   "name": "python",
   "nbconvert_exporter": "python",
   "pygments_lexer": "ipython3",
   "version": "3.8.5"
  },
  "orig_nbformat": 4,
  "kernelspec": {
   "name": "python3",
   "display_name": "Python 3.8.5 64-bit ('base': conda)"
  },
  "interpreter": {
   "hash": "344443636c3027c5042750c9c609acdda283a9c43681b128a8c1053e7ad2aa7d"
  }
 },
 "nbformat": 4,
 "nbformat_minor": 2,
 "cells": [
  {
   "cell_type": "code",
   "execution_count": 1,
   "metadata": {},
   "outputs": [],
   "source": [
    "import pandas as pd \n",
    "import numpy as np "
   ]
  },
  {
   "cell_type": "code",
   "execution_count": 2,
   "metadata": {},
   "outputs": [],
   "source": [
    "data = pd.read_csv('data_test_task/file2.csv', sep=\"\\t\")"
   ]
  },
  {
   "cell_type": "code",
   "execution_count": 3,
   "metadata": {},
   "outputs": [
    {
     "output_type": "execute_result",
     "data": {
      "text/plain": [
       "         login  uid  docid  jud  cjud\n",
       "0  assessor158  158      0    0     0\n",
       "1  assessor238  238      0    0     0\n",
       "2  assessor488  488      0    0     0\n",
       "3  assessor136  136      0    0     0\n",
       "4  assessor300  300      0    0     0"
      ],
      "text/html": "<div>\n<style scoped>\n    .dataframe tbody tr th:only-of-type {\n        vertical-align: middle;\n    }\n\n    .dataframe tbody tr th {\n        vertical-align: top;\n    }\n\n    .dataframe thead th {\n        text-align: right;\n    }\n</style>\n<table border=\"1\" class=\"dataframe\">\n  <thead>\n    <tr style=\"text-align: right;\">\n      <th></th>\n      <th>login</th>\n      <th>uid</th>\n      <th>docid</th>\n      <th>jud</th>\n      <th>cjud</th>\n    </tr>\n  </thead>\n  <tbody>\n    <tr>\n      <th>0</th>\n      <td>assessor158</td>\n      <td>158</td>\n      <td>0</td>\n      <td>0</td>\n      <td>0</td>\n    </tr>\n    <tr>\n      <th>1</th>\n      <td>assessor238</td>\n      <td>238</td>\n      <td>0</td>\n      <td>0</td>\n      <td>0</td>\n    </tr>\n    <tr>\n      <th>2</th>\n      <td>assessor488</td>\n      <td>488</td>\n      <td>0</td>\n      <td>0</td>\n      <td>0</td>\n    </tr>\n    <tr>\n      <th>3</th>\n      <td>assessor136</td>\n      <td>136</td>\n      <td>0</td>\n      <td>0</td>\n      <td>0</td>\n    </tr>\n    <tr>\n      <th>4</th>\n      <td>assessor300</td>\n      <td>300</td>\n      <td>0</td>\n      <td>0</td>\n      <td>0</td>\n    </tr>\n  </tbody>\n</table>\n</div>"
     },
     "metadata": {},
     "execution_count": 3
    }
   ],
   "source": [
    "data.head()"
   ]
  },
  {
   "cell_type": "code",
   "execution_count": 4,
   "metadata": {},
   "outputs": [
    {
     "output_type": "execute_result",
     "data": {
      "text/plain": [
       "          login  uid  docid  jud  cjud\n",
       "0   assessor158  158      0    0     0\n",
       "1   assessor238  238      0    0     0\n",
       "2   assessor488  488      0    0     0\n",
       "3   assessor136  136      0    0     0\n",
       "4   assessor300  300      0    0     0\n",
       "9   assessor295  295      1    1     1\n",
       "7   assessor409  409      1    1     1\n",
       "8   assessor396  396      1    1     1\n",
       "5   assessor123  123      1    1     1\n",
       "6   assessor491  491      1    0     1\n",
       "10   assessor37   37      2    0     0\n",
       "11  assessor291  291      2    0     0"
      ],
      "text/html": "<div>\n<style scoped>\n    .dataframe tbody tr th:only-of-type {\n        vertical-align: middle;\n    }\n\n    .dataframe tbody tr th {\n        vertical-align: top;\n    }\n\n    .dataframe thead th {\n        text-align: right;\n    }\n</style>\n<table border=\"1\" class=\"dataframe\">\n  <thead>\n    <tr style=\"text-align: right;\">\n      <th></th>\n      <th>login</th>\n      <th>uid</th>\n      <th>docid</th>\n      <th>jud</th>\n      <th>cjud</th>\n    </tr>\n  </thead>\n  <tbody>\n    <tr>\n      <th>0</th>\n      <td>assessor158</td>\n      <td>158</td>\n      <td>0</td>\n      <td>0</td>\n      <td>0</td>\n    </tr>\n    <tr>\n      <th>1</th>\n      <td>assessor238</td>\n      <td>238</td>\n      <td>0</td>\n      <td>0</td>\n      <td>0</td>\n    </tr>\n    <tr>\n      <th>2</th>\n      <td>assessor488</td>\n      <td>488</td>\n      <td>0</td>\n      <td>0</td>\n      <td>0</td>\n    </tr>\n    <tr>\n      <th>3</th>\n      <td>assessor136</td>\n      <td>136</td>\n      <td>0</td>\n      <td>0</td>\n      <td>0</td>\n    </tr>\n    <tr>\n      <th>4</th>\n      <td>assessor300</td>\n      <td>300</td>\n      <td>0</td>\n      <td>0</td>\n      <td>0</td>\n    </tr>\n    <tr>\n      <th>9</th>\n      <td>assessor295</td>\n      <td>295</td>\n      <td>1</td>\n      <td>1</td>\n      <td>1</td>\n    </tr>\n    <tr>\n      <th>7</th>\n      <td>assessor409</td>\n      <td>409</td>\n      <td>1</td>\n      <td>1</td>\n      <td>1</td>\n    </tr>\n    <tr>\n      <th>8</th>\n      <td>assessor396</td>\n      <td>396</td>\n      <td>1</td>\n      <td>1</td>\n      <td>1</td>\n    </tr>\n    <tr>\n      <th>5</th>\n      <td>assessor123</td>\n      <td>123</td>\n      <td>1</td>\n      <td>1</td>\n      <td>1</td>\n    </tr>\n    <tr>\n      <th>6</th>\n      <td>assessor491</td>\n      <td>491</td>\n      <td>1</td>\n      <td>0</td>\n      <td>1</td>\n    </tr>\n    <tr>\n      <th>10</th>\n      <td>assessor37</td>\n      <td>37</td>\n      <td>2</td>\n      <td>0</td>\n      <td>0</td>\n    </tr>\n    <tr>\n      <th>11</th>\n      <td>assessor291</td>\n      <td>291</td>\n      <td>2</td>\n      <td>0</td>\n      <td>0</td>\n    </tr>\n  </tbody>\n</table>\n</div>"
     },
     "metadata": {},
     "execution_count": 4
    }
   ],
   "source": [
    "data.sort_values(['docid']).head(12)"
   ]
  },
  {
   "cell_type": "code",
   "execution_count": 5,
   "metadata": {},
   "outputs": [
    {
     "output_type": "execute_result",
     "data": {
      "text/plain": [
       "50000"
      ]
     },
     "metadata": {},
     "execution_count": 5
    }
   ],
   "source": [
    "data.docid.nunique()"
   ]
  },
  {
   "cell_type": "code",
   "execution_count": 6,
   "metadata": {},
   "outputs": [
    {
     "output_type": "execute_result",
     "data": {
      "text/plain": [
       "59530"
      ]
     },
     "metadata": {},
     "execution_count": 6
    }
   ],
   "source": [
    "len(data[data.jud == 1])"
   ]
  },
  {
   "cell_type": "code",
   "execution_count": 7,
   "metadata": {},
   "outputs": [
    {
     "output_type": "execute_result",
     "data": {
      "text/plain": [
       "29980"
      ]
     },
     "metadata": {},
     "execution_count": 7
    }
   ],
   "source": [
    "len(data[data.cjud == 1])"
   ]
  },
  {
   "cell_type": "code",
   "execution_count": 8,
   "metadata": {},
   "outputs": [
    {
     "output_type": "execute_result",
     "data": {
      "text/plain": [
       "600"
      ]
     },
     "metadata": {},
     "execution_count": 8
    }
   ],
   "source": [
    "data.uid.nunique()"
   ]
  },
  {
   "source": [
    "250 000 строк\n",
    "\n",
    "600 Асессоров\n",
    "\n",
    "Получается уникальных docid — id оцениваемого документа (document id) 50 000\n",
    "\n",
    "jud — оценка асессора (judgement) 59 530\n",
    "\n",
    "cjud — правильная оценка (correct judgement) 29 980\n",
    "\n",
    "Ошибочных строк 39678\n"
   ],
   "cell_type": "markdown",
   "metadata": {}
  },
  {
   "cell_type": "code",
   "execution_count": 9,
   "metadata": {},
   "outputs": [],
   "source": [
    "data['fails'] = np.where(data.jud != data.cjud, 'error', 'not_error')"
   ]
  },
  {
   "cell_type": "code",
   "execution_count": 10,
   "metadata": {},
   "outputs": [
    {
     "output_type": "execute_result",
     "data": {
      "text/plain": [
       "         login  uid  docid  jud  cjud      fails\n",
       "0  assessor158  158      0    0     0  not_error\n",
       "1  assessor238  238      0    0     0  not_error\n",
       "2  assessor488  488      0    0     0  not_error\n",
       "3  assessor136  136      0    0     0  not_error\n",
       "4  assessor300  300      0    0     0  not_error\n",
       "5  assessor123  123      1    1     1  not_error\n",
       "6  assessor491  491      1    0     1      error\n",
       "7  assessor409  409      1    1     1  not_error"
      ],
      "text/html": "<div>\n<style scoped>\n    .dataframe tbody tr th:only-of-type {\n        vertical-align: middle;\n    }\n\n    .dataframe tbody tr th {\n        vertical-align: top;\n    }\n\n    .dataframe thead th {\n        text-align: right;\n    }\n</style>\n<table border=\"1\" class=\"dataframe\">\n  <thead>\n    <tr style=\"text-align: right;\">\n      <th></th>\n      <th>login</th>\n      <th>uid</th>\n      <th>docid</th>\n      <th>jud</th>\n      <th>cjud</th>\n      <th>fails</th>\n    </tr>\n  </thead>\n  <tbody>\n    <tr>\n      <th>0</th>\n      <td>assessor158</td>\n      <td>158</td>\n      <td>0</td>\n      <td>0</td>\n      <td>0</td>\n      <td>not_error</td>\n    </tr>\n    <tr>\n      <th>1</th>\n      <td>assessor238</td>\n      <td>238</td>\n      <td>0</td>\n      <td>0</td>\n      <td>0</td>\n      <td>not_error</td>\n    </tr>\n    <tr>\n      <th>2</th>\n      <td>assessor488</td>\n      <td>488</td>\n      <td>0</td>\n      <td>0</td>\n      <td>0</td>\n      <td>not_error</td>\n    </tr>\n    <tr>\n      <th>3</th>\n      <td>assessor136</td>\n      <td>136</td>\n      <td>0</td>\n      <td>0</td>\n      <td>0</td>\n      <td>not_error</td>\n    </tr>\n    <tr>\n      <th>4</th>\n      <td>assessor300</td>\n      <td>300</td>\n      <td>0</td>\n      <td>0</td>\n      <td>0</td>\n      <td>not_error</td>\n    </tr>\n    <tr>\n      <th>5</th>\n      <td>assessor123</td>\n      <td>123</td>\n      <td>1</td>\n      <td>1</td>\n      <td>1</td>\n      <td>not_error</td>\n    </tr>\n    <tr>\n      <th>6</th>\n      <td>assessor491</td>\n      <td>491</td>\n      <td>1</td>\n      <td>0</td>\n      <td>1</td>\n      <td>error</td>\n    </tr>\n    <tr>\n      <th>7</th>\n      <td>assessor409</td>\n      <td>409</td>\n      <td>1</td>\n      <td>1</td>\n      <td>1</td>\n      <td>not_error</td>\n    </tr>\n  </tbody>\n</table>\n</div>"
     },
     "metadata": {},
     "execution_count": 10
    }
   ],
   "source": [
    "data.head(8)"
   ]
  },
  {
   "source": [
    "Дальше создаем два датафрейма, чтобы понять сколько ошибок допустили исполнители и на сколько сложные были задания"
   ],
   "cell_type": "markdown",
   "metadata": {}
  },
  {
   "cell_type": "code",
   "execution_count": 11,
   "metadata": {},
   "outputs": [
    {
     "output_type": "execute_result",
     "data": {
      "text/plain": [
       "docid  fails    \n",
       "0      not_error    5\n",
       "1      error        1\n",
       "       not_error    4\n",
       "2      error        1\n",
       "       not_error    4\n",
       "                   ..\n",
       "49997  error        1\n",
       "       not_error    4\n",
       "49998  error        1\n",
       "       not_error    4\n",
       "49999  not_error    5\n",
       "Length: 78910, dtype: int64"
      ]
     },
     "metadata": {},
     "execution_count": 11
    }
   ],
   "source": [
    "new_data_doc = data.groupby(['docid','fails']).size()\n",
    "new_data_doc"
   ]
  },
  {
   "cell_type": "code",
   "execution_count": 12,
   "metadata": {},
   "outputs": [
    {
     "output_type": "execute_result",
     "data": {
      "text/plain": [
       "uid  fails    \n",
       "0    error         65\n",
       "     not_error    336\n",
       "1    error         82\n",
       "     not_error    330\n",
       "2    error         76\n",
       "                 ... \n",
       "597  not_error    383\n",
       "598  error         94\n",
       "     not_error    324\n",
       "599  error         40\n",
       "     not_error    384\n",
       "Length: 1200, dtype: int64"
      ]
     },
     "metadata": {},
     "execution_count": 12
    }
   ],
   "source": [
    "new_data_fails = data.groupby(['uid','fails']).size()\n",
    "new_data_fails"
   ]
  },
  {
   "cell_type": "code",
   "execution_count": 13,
   "metadata": {},
   "outputs": [
    {
     "output_type": "execute_result",
     "data": {
      "text/plain": [
       "fails  error  not_error\n",
       "docid                  \n",
       "0        0.0        5.0\n",
       "1        1.0        4.0\n",
       "2        1.0        4.0\n",
       "3        1.0        4.0\n",
       "4        1.0        4.0\n",
       "...      ...        ...\n",
       "49995    0.0        5.0\n",
       "49996    0.0        5.0\n",
       "49997    1.0        4.0\n",
       "49998    1.0        4.0\n",
       "49999    0.0        5.0\n",
       "\n",
       "[50000 rows x 2 columns]"
      ],
      "text/html": "<div>\n<style scoped>\n    .dataframe tbody tr th:only-of-type {\n        vertical-align: middle;\n    }\n\n    .dataframe tbody tr th {\n        vertical-align: top;\n    }\n\n    .dataframe thead th {\n        text-align: right;\n    }\n</style>\n<table border=\"1\" class=\"dataframe\">\n  <thead>\n    <tr style=\"text-align: right;\">\n      <th>fails</th>\n      <th>error</th>\n      <th>not_error</th>\n    </tr>\n    <tr>\n      <th>docid</th>\n      <th></th>\n      <th></th>\n    </tr>\n  </thead>\n  <tbody>\n    <tr>\n      <th>0</th>\n      <td>0.0</td>\n      <td>5.0</td>\n    </tr>\n    <tr>\n      <th>1</th>\n      <td>1.0</td>\n      <td>4.0</td>\n    </tr>\n    <tr>\n      <th>2</th>\n      <td>1.0</td>\n      <td>4.0</td>\n    </tr>\n    <tr>\n      <th>3</th>\n      <td>1.0</td>\n      <td>4.0</td>\n    </tr>\n    <tr>\n      <th>4</th>\n      <td>1.0</td>\n      <td>4.0</td>\n    </tr>\n    <tr>\n      <th>...</th>\n      <td>...</td>\n      <td>...</td>\n    </tr>\n    <tr>\n      <th>49995</th>\n      <td>0.0</td>\n      <td>5.0</td>\n    </tr>\n    <tr>\n      <th>49996</th>\n      <td>0.0</td>\n      <td>5.0</td>\n    </tr>\n    <tr>\n      <th>49997</th>\n      <td>1.0</td>\n      <td>4.0</td>\n    </tr>\n    <tr>\n      <th>49998</th>\n      <td>1.0</td>\n      <td>4.0</td>\n    </tr>\n    <tr>\n      <th>49999</th>\n      <td>0.0</td>\n      <td>5.0</td>\n    </tr>\n  </tbody>\n</table>\n<p>50000 rows × 2 columns</p>\n</div>"
     },
     "metadata": {},
     "execution_count": 13
    }
   ],
   "source": [
    "new_data_doc = new_data_doc.unstack(level=1)\n",
    "new_data_doc = new_data_doc.fillna(0)   # заменили NaN на 0\n",
    "new_data_doc"
   ]
  },
  {
   "cell_type": "code",
   "execution_count": 14,
   "metadata": {},
   "outputs": [
    {
     "output_type": "execute_result",
     "data": {
      "text/plain": [
       "fails  error  not_error\n",
       "uid                    \n",
       "0         65        336\n",
       "1         82        330\n",
       "2         76        303\n",
       "3        230        196\n",
       "4         72        346\n",
       "..       ...        ...\n",
       "595       67        377\n",
       "596       33        365\n",
       "597       46        383\n",
       "598       94        324\n",
       "599       40        384\n",
       "\n",
       "[600 rows x 2 columns]"
      ],
      "text/html": "<div>\n<style scoped>\n    .dataframe tbody tr th:only-of-type {\n        vertical-align: middle;\n    }\n\n    .dataframe tbody tr th {\n        vertical-align: top;\n    }\n\n    .dataframe thead th {\n        text-align: right;\n    }\n</style>\n<table border=\"1\" class=\"dataframe\">\n  <thead>\n    <tr style=\"text-align: right;\">\n      <th>fails</th>\n      <th>error</th>\n      <th>not_error</th>\n    </tr>\n    <tr>\n      <th>uid</th>\n      <th></th>\n      <th></th>\n    </tr>\n  </thead>\n  <tbody>\n    <tr>\n      <th>0</th>\n      <td>65</td>\n      <td>336</td>\n    </tr>\n    <tr>\n      <th>1</th>\n      <td>82</td>\n      <td>330</td>\n    </tr>\n    <tr>\n      <th>2</th>\n      <td>76</td>\n      <td>303</td>\n    </tr>\n    <tr>\n      <th>3</th>\n      <td>230</td>\n      <td>196</td>\n    </tr>\n    <tr>\n      <th>4</th>\n      <td>72</td>\n      <td>346</td>\n    </tr>\n    <tr>\n      <th>...</th>\n      <td>...</td>\n      <td>...</td>\n    </tr>\n    <tr>\n      <th>595</th>\n      <td>67</td>\n      <td>377</td>\n    </tr>\n    <tr>\n      <th>596</th>\n      <td>33</td>\n      <td>365</td>\n    </tr>\n    <tr>\n      <th>597</th>\n      <td>46</td>\n      <td>383</td>\n    </tr>\n    <tr>\n      <th>598</th>\n      <td>94</td>\n      <td>324</td>\n    </tr>\n    <tr>\n      <th>599</th>\n      <td>40</td>\n      <td>384</td>\n    </tr>\n  </tbody>\n</table>\n<p>600 rows × 2 columns</p>\n</div>"
     },
     "metadata": {},
     "execution_count": 14
    }
   ],
   "source": [
    "new_data_fails = new_data_fails.unstack(level=1)\n",
    "new_data_fails "
   ]
  },
  {
   "cell_type": "code",
   "execution_count": 15,
   "metadata": {},
   "outputs": [
    {
     "output_type": "execute_result",
     "data": {
      "text/plain": [
       "fails  error  not_error  error_rate\n",
       "docid                              \n",
       "0        0.0        5.0         0.0\n",
       "1        1.0        4.0        20.0\n",
       "2        1.0        4.0        20.0\n",
       "3        1.0        4.0        20.0\n",
       "4        1.0        4.0        20.0\n",
       "...      ...        ...         ...\n",
       "49995    0.0        5.0         0.0\n",
       "49996    0.0        5.0         0.0\n",
       "49997    1.0        4.0        20.0\n",
       "49998    1.0        4.0        20.0\n",
       "49999    0.0        5.0         0.0\n",
       "\n",
       "[50000 rows x 3 columns]"
      ],
      "text/html": "<div>\n<style scoped>\n    .dataframe tbody tr th:only-of-type {\n        vertical-align: middle;\n    }\n\n    .dataframe tbody tr th {\n        vertical-align: top;\n    }\n\n    .dataframe thead th {\n        text-align: right;\n    }\n</style>\n<table border=\"1\" class=\"dataframe\">\n  <thead>\n    <tr style=\"text-align: right;\">\n      <th>fails</th>\n      <th>error</th>\n      <th>not_error</th>\n      <th>error_rate</th>\n    </tr>\n    <tr>\n      <th>docid</th>\n      <th></th>\n      <th></th>\n      <th></th>\n    </tr>\n  </thead>\n  <tbody>\n    <tr>\n      <th>0</th>\n      <td>0.0</td>\n      <td>5.0</td>\n      <td>0.0</td>\n    </tr>\n    <tr>\n      <th>1</th>\n      <td>1.0</td>\n      <td>4.0</td>\n      <td>20.0</td>\n    </tr>\n    <tr>\n      <th>2</th>\n      <td>1.0</td>\n      <td>4.0</td>\n      <td>20.0</td>\n    </tr>\n    <tr>\n      <th>3</th>\n      <td>1.0</td>\n      <td>4.0</td>\n      <td>20.0</td>\n    </tr>\n    <tr>\n      <th>4</th>\n      <td>1.0</td>\n      <td>4.0</td>\n      <td>20.0</td>\n    </tr>\n    <tr>\n      <th>...</th>\n      <td>...</td>\n      <td>...</td>\n      <td>...</td>\n    </tr>\n    <tr>\n      <th>49995</th>\n      <td>0.0</td>\n      <td>5.0</td>\n      <td>0.0</td>\n    </tr>\n    <tr>\n      <th>49996</th>\n      <td>0.0</td>\n      <td>5.0</td>\n      <td>0.0</td>\n    </tr>\n    <tr>\n      <th>49997</th>\n      <td>1.0</td>\n      <td>4.0</td>\n      <td>20.0</td>\n    </tr>\n    <tr>\n      <th>49998</th>\n      <td>1.0</td>\n      <td>4.0</td>\n      <td>20.0</td>\n    </tr>\n    <tr>\n      <th>49999</th>\n      <td>0.0</td>\n      <td>5.0</td>\n      <td>0.0</td>\n    </tr>\n  </tbody>\n</table>\n<p>50000 rows × 3 columns</p>\n</div>"
     },
     "metadata": {},
     "execution_count": 15
    }
   ],
   "source": [
    "new_data_doc['error_rate'] = 100 / (new_data_doc.error + new_data_doc.not_error) * new_data_doc.error        \n",
    "new_data_doc"
   ]
  },
  {
   "cell_type": "code",
   "execution_count": 16,
   "metadata": {},
   "outputs": [
    {
     "output_type": "execute_result",
     "data": {
      "text/plain": [
       "fails  error  not_error  error_rate\n",
       "uid                                \n",
       "0         65        336   16.209476\n",
       "1         82        330   19.902913\n",
       "2         76        303   20.052770\n",
       "3        230        196   53.990610\n",
       "4         72        346   17.224880\n",
       "..       ...        ...         ...\n",
       "595       67        377   15.090090\n",
       "596       33        365    8.291457\n",
       "597       46        383   10.722611\n",
       "598       94        324   22.488038\n",
       "599       40        384    9.433962\n",
       "\n",
       "[600 rows x 3 columns]"
      ],
      "text/html": "<div>\n<style scoped>\n    .dataframe tbody tr th:only-of-type {\n        vertical-align: middle;\n    }\n\n    .dataframe tbody tr th {\n        vertical-align: top;\n    }\n\n    .dataframe thead th {\n        text-align: right;\n    }\n</style>\n<table border=\"1\" class=\"dataframe\">\n  <thead>\n    <tr style=\"text-align: right;\">\n      <th>fails</th>\n      <th>error</th>\n      <th>not_error</th>\n      <th>error_rate</th>\n    </tr>\n    <tr>\n      <th>uid</th>\n      <th></th>\n      <th></th>\n      <th></th>\n    </tr>\n  </thead>\n  <tbody>\n    <tr>\n      <th>0</th>\n      <td>65</td>\n      <td>336</td>\n      <td>16.209476</td>\n    </tr>\n    <tr>\n      <th>1</th>\n      <td>82</td>\n      <td>330</td>\n      <td>19.902913</td>\n    </tr>\n    <tr>\n      <th>2</th>\n      <td>76</td>\n      <td>303</td>\n      <td>20.052770</td>\n    </tr>\n    <tr>\n      <th>3</th>\n      <td>230</td>\n      <td>196</td>\n      <td>53.990610</td>\n    </tr>\n    <tr>\n      <th>4</th>\n      <td>72</td>\n      <td>346</td>\n      <td>17.224880</td>\n    </tr>\n    <tr>\n      <th>...</th>\n      <td>...</td>\n      <td>...</td>\n      <td>...</td>\n    </tr>\n    <tr>\n      <th>595</th>\n      <td>67</td>\n      <td>377</td>\n      <td>15.090090</td>\n    </tr>\n    <tr>\n      <th>596</th>\n      <td>33</td>\n      <td>365</td>\n      <td>8.291457</td>\n    </tr>\n    <tr>\n      <th>597</th>\n      <td>46</td>\n      <td>383</td>\n      <td>10.722611</td>\n    </tr>\n    <tr>\n      <th>598</th>\n      <td>94</td>\n      <td>324</td>\n      <td>22.488038</td>\n    </tr>\n    <tr>\n      <th>599</th>\n      <td>40</td>\n      <td>384</td>\n      <td>9.433962</td>\n    </tr>\n  </tbody>\n</table>\n<p>600 rows × 3 columns</p>\n</div>"
     },
     "metadata": {},
     "execution_count": 16
    }
   ],
   "source": [
    "new_data_fails['error_rate'] = 100 / (new_data_fails.error + new_data_fails.not_error) * new_data_fails.error\n",
    "new_data_fails "
   ]
  },
  {
   "cell_type": "code",
   "execution_count": 17,
   "metadata": {},
   "outputs": [
    {
     "output_type": "execute_result",
     "data": {
      "text/plain": [
       "fails  error  not_error  error_rate\n",
       "docid                              \n",
       "0        0.0        5.0         0.0\n",
       "26688    0.0        5.0         0.0\n",
       "26686    0.0        5.0         0.0\n",
       "26685    0.0        5.0         0.0\n",
       "26678    0.0        5.0         0.0\n",
       "...      ...        ...         ...\n",
       "25274    4.0        1.0        80.0\n",
       "41326    5.0        0.0       100.0\n",
       "34709    5.0        0.0       100.0\n",
       "9457     5.0        0.0       100.0\n",
       "2906     5.0        0.0       100.0\n",
       "\n",
       "[50000 rows x 3 columns]"
      ],
      "text/html": "<div>\n<style scoped>\n    .dataframe tbody tr th:only-of-type {\n        vertical-align: middle;\n    }\n\n    .dataframe tbody tr th {\n        vertical-align: top;\n    }\n\n    .dataframe thead th {\n        text-align: right;\n    }\n</style>\n<table border=\"1\" class=\"dataframe\">\n  <thead>\n    <tr style=\"text-align: right;\">\n      <th>fails</th>\n      <th>error</th>\n      <th>not_error</th>\n      <th>error_rate</th>\n    </tr>\n    <tr>\n      <th>docid</th>\n      <th></th>\n      <th></th>\n      <th></th>\n    </tr>\n  </thead>\n  <tbody>\n    <tr>\n      <th>0</th>\n      <td>0.0</td>\n      <td>5.0</td>\n      <td>0.0</td>\n    </tr>\n    <tr>\n      <th>26688</th>\n      <td>0.0</td>\n      <td>5.0</td>\n      <td>0.0</td>\n    </tr>\n    <tr>\n      <th>26686</th>\n      <td>0.0</td>\n      <td>5.0</td>\n      <td>0.0</td>\n    </tr>\n    <tr>\n      <th>26685</th>\n      <td>0.0</td>\n      <td>5.0</td>\n      <td>0.0</td>\n    </tr>\n    <tr>\n      <th>26678</th>\n      <td>0.0</td>\n      <td>5.0</td>\n      <td>0.0</td>\n    </tr>\n    <tr>\n      <th>...</th>\n      <td>...</td>\n      <td>...</td>\n      <td>...</td>\n    </tr>\n    <tr>\n      <th>25274</th>\n      <td>4.0</td>\n      <td>1.0</td>\n      <td>80.0</td>\n    </tr>\n    <tr>\n      <th>41326</th>\n      <td>5.0</td>\n      <td>0.0</td>\n      <td>100.0</td>\n    </tr>\n    <tr>\n      <th>34709</th>\n      <td>5.0</td>\n      <td>0.0</td>\n      <td>100.0</td>\n    </tr>\n    <tr>\n      <th>9457</th>\n      <td>5.0</td>\n      <td>0.0</td>\n      <td>100.0</td>\n    </tr>\n    <tr>\n      <th>2906</th>\n      <td>5.0</td>\n      <td>0.0</td>\n      <td>100.0</td>\n    </tr>\n  </tbody>\n</table>\n<p>50000 rows × 3 columns</p>\n</div>"
     },
     "metadata": {},
     "execution_count": 17
    }
   ],
   "source": [
    "new_data_doc.sort_values(['error_rate'])"
   ]
  },
  {
   "source": [
    "Увидеть самые плохие показатели по количеству ошибок. "
   ],
   "cell_type": "markdown",
   "metadata": {}
  },
  {
   "cell_type": "code",
   "execution_count": 18,
   "metadata": {},
   "outputs": [
    {
     "output_type": "execute_result",
     "data": {
      "text/plain": [
       "fails  error  not_error  error_rate\n",
       "uid                                \n",
       "219       94        300   23.857868\n",
       "221       96        304   24.000000\n",
       "71       105        328   24.249423\n",
       "154       99        306   24.444444\n",
       "335      108        311   25.775656\n",
       "9        110        313   26.004728\n",
       "550       35         93   27.343750\n",
       "234       51         48   51.515152\n",
       "390      214        198   51.941748\n",
       "118      205        186   52.429668\n",
       "3        230        196   53.990610\n",
       "56       236        175   57.420925"
      ],
      "text/html": "<div>\n<style scoped>\n    .dataframe tbody tr th:only-of-type {\n        vertical-align: middle;\n    }\n\n    .dataframe tbody tr th {\n        vertical-align: top;\n    }\n\n    .dataframe thead th {\n        text-align: right;\n    }\n</style>\n<table border=\"1\" class=\"dataframe\">\n  <thead>\n    <tr style=\"text-align: right;\">\n      <th>fails</th>\n      <th>error</th>\n      <th>not_error</th>\n      <th>error_rate</th>\n    </tr>\n    <tr>\n      <th>uid</th>\n      <th></th>\n      <th></th>\n      <th></th>\n    </tr>\n  </thead>\n  <tbody>\n    <tr>\n      <th>219</th>\n      <td>94</td>\n      <td>300</td>\n      <td>23.857868</td>\n    </tr>\n    <tr>\n      <th>221</th>\n      <td>96</td>\n      <td>304</td>\n      <td>24.000000</td>\n    </tr>\n    <tr>\n      <th>71</th>\n      <td>105</td>\n      <td>328</td>\n      <td>24.249423</td>\n    </tr>\n    <tr>\n      <th>154</th>\n      <td>99</td>\n      <td>306</td>\n      <td>24.444444</td>\n    </tr>\n    <tr>\n      <th>335</th>\n      <td>108</td>\n      <td>311</td>\n      <td>25.775656</td>\n    </tr>\n    <tr>\n      <th>9</th>\n      <td>110</td>\n      <td>313</td>\n      <td>26.004728</td>\n    </tr>\n    <tr>\n      <th>550</th>\n      <td>35</td>\n      <td>93</td>\n      <td>27.343750</td>\n    </tr>\n    <tr>\n      <th>234</th>\n      <td>51</td>\n      <td>48</td>\n      <td>51.515152</td>\n    </tr>\n    <tr>\n      <th>390</th>\n      <td>214</td>\n      <td>198</td>\n      <td>51.941748</td>\n    </tr>\n    <tr>\n      <th>118</th>\n      <td>205</td>\n      <td>186</td>\n      <td>52.429668</td>\n    </tr>\n    <tr>\n      <th>3</th>\n      <td>230</td>\n      <td>196</td>\n      <td>53.990610</td>\n    </tr>\n    <tr>\n      <th>56</th>\n      <td>236</td>\n      <td>175</td>\n      <td>57.420925</td>\n    </tr>\n  </tbody>\n</table>\n</div>"
     },
     "metadata": {},
     "execution_count": 18
    }
   ],
   "source": [
    "new_data_fails.sort_values(['error_rate']).tail(12)"
   ]
  },
  {
   "cell_type": "code",
   "execution_count": 19,
   "metadata": {},
   "outputs": [
    {
     "output_type": "execute_result",
     "data": {
      "text/plain": [
       "fails  error  not_error  error_rate\n",
       "uid                                \n",
       "234       51         48   51.515152\n",
       "390      214        198   51.941748\n",
       "118      205        186   52.429668\n",
       "3        230        196   53.990610\n",
       "56       236        175   57.420925"
      ],
      "text/html": "<div>\n<style scoped>\n    .dataframe tbody tr th:only-of-type {\n        vertical-align: middle;\n    }\n\n    .dataframe tbody tr th {\n        vertical-align: top;\n    }\n\n    .dataframe thead th {\n        text-align: right;\n    }\n</style>\n<table border=\"1\" class=\"dataframe\">\n  <thead>\n    <tr style=\"text-align: right;\">\n      <th>fails</th>\n      <th>error</th>\n      <th>not_error</th>\n      <th>error_rate</th>\n    </tr>\n    <tr>\n      <th>uid</th>\n      <th></th>\n      <th></th>\n      <th></th>\n    </tr>\n  </thead>\n  <tbody>\n    <tr>\n      <th>234</th>\n      <td>51</td>\n      <td>48</td>\n      <td>51.515152</td>\n    </tr>\n    <tr>\n      <th>390</th>\n      <td>214</td>\n      <td>198</td>\n      <td>51.941748</td>\n    </tr>\n    <tr>\n      <th>118</th>\n      <td>205</td>\n      <td>186</td>\n      <td>52.429668</td>\n    </tr>\n    <tr>\n      <th>3</th>\n      <td>230</td>\n      <td>196</td>\n      <td>53.990610</td>\n    </tr>\n    <tr>\n      <th>56</th>\n      <td>236</td>\n      <td>175</td>\n      <td>57.420925</td>\n    </tr>\n  </tbody>\n</table>\n</div>"
     },
     "metadata": {},
     "execution_count": 19
    }
   ],
   "source": [
    "new_data_fails[new_data_fails.error_rate > 50].sort_values(['error_rate'])"
   ]
  },
  {
   "source": [
    "Проверка заданий. В каких заданиях высокий рейтинг ошибок. "
   ],
   "cell_type": "markdown",
   "metadata": {}
  },
  {
   "cell_type": "code",
   "execution_count": 20,
   "metadata": {},
   "outputs": [
    {
     "output_type": "execute_result",
     "data": {
      "text/plain": [
       "fails  error  not_error  error_rate\n",
       "docid                              \n",
       "47323    4.0        1.0        80.0\n",
       "36739    4.0        1.0        80.0\n",
       "25274    4.0        1.0        80.0\n",
       "41326    5.0        0.0       100.0\n",
       "34709    5.0        0.0       100.0\n",
       "9457     5.0        0.0       100.0\n",
       "2906     5.0        0.0       100.0"
      ],
      "text/html": "<div>\n<style scoped>\n    .dataframe tbody tr th:only-of-type {\n        vertical-align: middle;\n    }\n\n    .dataframe tbody tr th {\n        vertical-align: top;\n    }\n\n    .dataframe thead th {\n        text-align: right;\n    }\n</style>\n<table border=\"1\" class=\"dataframe\">\n  <thead>\n    <tr style=\"text-align: right;\">\n      <th>fails</th>\n      <th>error</th>\n      <th>not_error</th>\n      <th>error_rate</th>\n    </tr>\n    <tr>\n      <th>docid</th>\n      <th></th>\n      <th></th>\n      <th></th>\n    </tr>\n  </thead>\n  <tbody>\n    <tr>\n      <th>47323</th>\n      <td>4.0</td>\n      <td>1.0</td>\n      <td>80.0</td>\n    </tr>\n    <tr>\n      <th>36739</th>\n      <td>4.0</td>\n      <td>1.0</td>\n      <td>80.0</td>\n    </tr>\n    <tr>\n      <th>25274</th>\n      <td>4.0</td>\n      <td>1.0</td>\n      <td>80.0</td>\n    </tr>\n    <tr>\n      <th>41326</th>\n      <td>5.0</td>\n      <td>0.0</td>\n      <td>100.0</td>\n    </tr>\n    <tr>\n      <th>34709</th>\n      <td>5.0</td>\n      <td>0.0</td>\n      <td>100.0</td>\n    </tr>\n    <tr>\n      <th>9457</th>\n      <td>5.0</td>\n      <td>0.0</td>\n      <td>100.0</td>\n    </tr>\n    <tr>\n      <th>2906</th>\n      <td>5.0</td>\n      <td>0.0</td>\n      <td>100.0</td>\n    </tr>\n  </tbody>\n</table>\n</div>"
     },
     "metadata": {},
     "execution_count": 20
    }
   ],
   "source": [
    "new_data_doc.sort_values(['error_rate']).tail(7)"
   ]
  },
  {
   "source": [
    "Выполняли ли задания с 100% error_rate ассесоры с большим рейтингом ошибок? "
   ],
   "cell_type": "markdown",
   "metadata": {}
  },
  {
   "cell_type": "code",
   "execution_count": 21,
   "metadata": {},
   "outputs": [
    {
     "output_type": "execute_result",
     "data": {
      "text/plain": [
       "              login  uid  docid  jud  cjud  fails\n",
       "206631   assessor58   58  41326    1     0  error\n",
       "173545   assessor79   79  34709    1     0  error\n",
       "14530    assessor91   91   2906    1     0  error\n",
       "47285    assessor99   99   9457    1     0  error\n",
       "47288   assessor170  170   9457    1     0  error\n",
       "14534   assessor199  199   2906    1     0  error\n",
       "206634  assessor281  281  41326    1     0  error\n",
       "206633  assessor300  300  41326    1     0  error\n",
       "47289   assessor307  307   9457    1     0  error\n",
       "206630  assessor323  323  41326    1     0  error\n",
       "173547  assessor339  339  34709    1     0  error\n",
       "14531   assessor386  386   2906    1     0  error\n",
       "173548  assessor410  410  34709    1     0  error\n",
       "173549  assessor427  427  34709    1     0  error\n",
       "47286   assessor452  452   9457    1     0  error\n",
       "14533   assessor497  497   2906    1     0  error\n",
       "206632  assessor539  539  41326    1     0  error\n",
       "47287   assessor540  540   9457    1     0  error\n",
       "173546  assessor562  562  34709    1     0  error\n",
       "14532   assessor570  570   2906    1     0  error"
      ],
      "text/html": "<div>\n<style scoped>\n    .dataframe tbody tr th:only-of-type {\n        vertical-align: middle;\n    }\n\n    .dataframe tbody tr th {\n        vertical-align: top;\n    }\n\n    .dataframe thead th {\n        text-align: right;\n    }\n</style>\n<table border=\"1\" class=\"dataframe\">\n  <thead>\n    <tr style=\"text-align: right;\">\n      <th></th>\n      <th>login</th>\n      <th>uid</th>\n      <th>docid</th>\n      <th>jud</th>\n      <th>cjud</th>\n      <th>fails</th>\n    </tr>\n  </thead>\n  <tbody>\n    <tr>\n      <th>206631</th>\n      <td>assessor58</td>\n      <td>58</td>\n      <td>41326</td>\n      <td>1</td>\n      <td>0</td>\n      <td>error</td>\n    </tr>\n    <tr>\n      <th>173545</th>\n      <td>assessor79</td>\n      <td>79</td>\n      <td>34709</td>\n      <td>1</td>\n      <td>0</td>\n      <td>error</td>\n    </tr>\n    <tr>\n      <th>14530</th>\n      <td>assessor91</td>\n      <td>91</td>\n      <td>2906</td>\n      <td>1</td>\n      <td>0</td>\n      <td>error</td>\n    </tr>\n    <tr>\n      <th>47285</th>\n      <td>assessor99</td>\n      <td>99</td>\n      <td>9457</td>\n      <td>1</td>\n      <td>0</td>\n      <td>error</td>\n    </tr>\n    <tr>\n      <th>47288</th>\n      <td>assessor170</td>\n      <td>170</td>\n      <td>9457</td>\n      <td>1</td>\n      <td>0</td>\n      <td>error</td>\n    </tr>\n    <tr>\n      <th>14534</th>\n      <td>assessor199</td>\n      <td>199</td>\n      <td>2906</td>\n      <td>1</td>\n      <td>0</td>\n      <td>error</td>\n    </tr>\n    <tr>\n      <th>206634</th>\n      <td>assessor281</td>\n      <td>281</td>\n      <td>41326</td>\n      <td>1</td>\n      <td>0</td>\n      <td>error</td>\n    </tr>\n    <tr>\n      <th>206633</th>\n      <td>assessor300</td>\n      <td>300</td>\n      <td>41326</td>\n      <td>1</td>\n      <td>0</td>\n      <td>error</td>\n    </tr>\n    <tr>\n      <th>47289</th>\n      <td>assessor307</td>\n      <td>307</td>\n      <td>9457</td>\n      <td>1</td>\n      <td>0</td>\n      <td>error</td>\n    </tr>\n    <tr>\n      <th>206630</th>\n      <td>assessor323</td>\n      <td>323</td>\n      <td>41326</td>\n      <td>1</td>\n      <td>0</td>\n      <td>error</td>\n    </tr>\n    <tr>\n      <th>173547</th>\n      <td>assessor339</td>\n      <td>339</td>\n      <td>34709</td>\n      <td>1</td>\n      <td>0</td>\n      <td>error</td>\n    </tr>\n    <tr>\n      <th>14531</th>\n      <td>assessor386</td>\n      <td>386</td>\n      <td>2906</td>\n      <td>1</td>\n      <td>0</td>\n      <td>error</td>\n    </tr>\n    <tr>\n      <th>173548</th>\n      <td>assessor410</td>\n      <td>410</td>\n      <td>34709</td>\n      <td>1</td>\n      <td>0</td>\n      <td>error</td>\n    </tr>\n    <tr>\n      <th>173549</th>\n      <td>assessor427</td>\n      <td>427</td>\n      <td>34709</td>\n      <td>1</td>\n      <td>0</td>\n      <td>error</td>\n    </tr>\n    <tr>\n      <th>47286</th>\n      <td>assessor452</td>\n      <td>452</td>\n      <td>9457</td>\n      <td>1</td>\n      <td>0</td>\n      <td>error</td>\n    </tr>\n    <tr>\n      <th>14533</th>\n      <td>assessor497</td>\n      <td>497</td>\n      <td>2906</td>\n      <td>1</td>\n      <td>0</td>\n      <td>error</td>\n    </tr>\n    <tr>\n      <th>206632</th>\n      <td>assessor539</td>\n      <td>539</td>\n      <td>41326</td>\n      <td>1</td>\n      <td>0</td>\n      <td>error</td>\n    </tr>\n    <tr>\n      <th>47287</th>\n      <td>assessor540</td>\n      <td>540</td>\n      <td>9457</td>\n      <td>1</td>\n      <td>0</td>\n      <td>error</td>\n    </tr>\n    <tr>\n      <th>173546</th>\n      <td>assessor562</td>\n      <td>562</td>\n      <td>34709</td>\n      <td>1</td>\n      <td>0</td>\n      <td>error</td>\n    </tr>\n    <tr>\n      <th>14532</th>\n      <td>assessor570</td>\n      <td>570</td>\n      <td>2906</td>\n      <td>1</td>\n      <td>0</td>\n      <td>error</td>\n    </tr>\n  </tbody>\n</table>\n</div>"
     },
     "metadata": {},
     "execution_count": 21
    }
   ],
   "source": [
    "data[(data.docid == 41326) | (data.docid == 34709) \\\n",
    "    | (data.docid == 9457) | (data.docid == 2906)].sort_values(['uid'])"
   ]
  },
  {
   "cell_type": "code",
   "execution_count": null,
   "metadata": {},
   "outputs": [],
   "source": []
  }
 ]
}