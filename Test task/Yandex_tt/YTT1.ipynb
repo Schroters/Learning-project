{
 "metadata": {
  "language_info": {
   "codemirror_mode": {
    "name": "ipython",
    "version": 3
   },
   "file_extension": ".py",
   "mimetype": "text/x-python",
   "name": "python",
   "nbconvert_exporter": "python",
   "pygments_lexer": "ipython3",
   "version": "3.8.5"
  },
  "orig_nbformat": 4,
  "kernelspec": {
   "name": "python3",
   "display_name": "Python 3.8.5 64-bit ('base': conda)"
  },
  "interpreter": {
   "hash": "344443636c3027c5042750c9c609acdda283a9c43681b128a8c1053e7ad2aa7d"
  }
 },
 "nbformat": 4,
 "nbformat_minor": 2,
 "cells": [
  {
   "cell_type": "code",
   "execution_count": 1,
   "metadata": {},
   "outputs": [],
   "source": [
    "import pandas as pd \n",
    "import time\n",
    "import datetime"
   ]
  },
  {
   "cell_type": "code",
   "execution_count": 2,
   "metadata": {},
   "outputs": [],
   "source": [
    "data = pd.read_csv('data_test_task/file1.txt', sep=\"\\t\", header=None, \\\n",
    "    names=[\"login\", \"tid\", \"Microtasks\", \"assigned_ts\", \"closed_ts\"], low_memory=False)"
   ]
  },
  {
   "cell_type": "code",
   "execution_count": 3,
   "metadata": {},
   "outputs": [
    {
     "output_type": "execute_result",
     "data": {
      "text/plain": [
       "(701828, 5)"
      ]
     },
     "metadata": {},
     "execution_count": 3
    }
   ],
   "source": [
    "data.shape"
   ]
  },
  {
   "cell_type": "code",
   "execution_count": 4,
   "metadata": {},
   "outputs": [],
   "source": [
    "data = data.drop([0])"
   ]
  },
  {
   "cell_type": "code",
   "execution_count": 5,
   "metadata": {},
   "outputs": [
    {
     "output_type": "execute_result",
     "data": {
      "text/plain": [
       "(701827, 5)"
      ]
     },
     "metadata": {},
     "execution_count": 5
    }
   ],
   "source": [
    "data.shape"
   ]
  },
  {
   "cell_type": "code",
   "execution_count": 6,
   "metadata": {},
   "outputs": [
    {
     "output_type": "stream",
     "name": "stdout",
     "text": [
      "    login          tid Microtasks          assigned_ts            closed_ts\n1  login0  190563850.0        4.0  2017-04-20 12:09:39  2017-04-20 13:13:01\n2  login0  190561754.0        1.0  2017-04-20 12:10:30  2017-04-20 12:28:29\n3  login0  190565906.0        4.0  2017-04-20 12:21:31  2017-04-20 13:30:10\n"
     ]
    }
   ],
   "source": [
    "print(data.head(3))"
   ]
  },
  {
   "cell_type": "code",
   "execution_count": 7,
   "metadata": {},
   "outputs": [],
   "source": [
    "def date_convert(date_to_convert):\n",
    "    return int(time.mktime(datetime.datetime.strptime(date_to_convert, \"%Y-%m-%d %H:%M:%S\").timetuple()))"
   ]
  },
  {
   "cell_type": "code",
   "execution_count": 8,
   "metadata": {},
   "outputs": [],
   "source": [
    "data['assigned_timestamp'] = data['assigned_ts'].apply(date_convert)\n",
    "data['closed_timestamp'] = data['closed_ts'].apply(date_convert)"
   ]
  },
  {
   "cell_type": "code",
   "execution_count": 9,
   "metadata": {},
   "outputs": [
    {
     "output_type": "execute_result",
     "data": {
      "text/plain": [
       "    login          tid Microtasks          assigned_ts            closed_ts  \\\n",
       "1  login0  190563850.0        4.0  2017-04-20 12:09:39  2017-04-20 13:13:01   \n",
       "2  login0  190561754.0        1.0  2017-04-20 12:10:30  2017-04-20 12:28:29   \n",
       "3  login0  190565906.0        4.0  2017-04-20 12:21:31  2017-04-20 13:30:10   \n",
       "\n",
       "   assigned_timestamp  closed_timestamp  \n",
       "1          1492679379        1492683181  \n",
       "2          1492679430        1492680509  \n",
       "3          1492680091        1492684210  "
      ],
      "text/html": "<div>\n<style scoped>\n    .dataframe tbody tr th:only-of-type {\n        vertical-align: middle;\n    }\n\n    .dataframe tbody tr th {\n        vertical-align: top;\n    }\n\n    .dataframe thead th {\n        text-align: right;\n    }\n</style>\n<table border=\"1\" class=\"dataframe\">\n  <thead>\n    <tr style=\"text-align: right;\">\n      <th></th>\n      <th>login</th>\n      <th>tid</th>\n      <th>Microtasks</th>\n      <th>assigned_ts</th>\n      <th>closed_ts</th>\n      <th>assigned_timestamp</th>\n      <th>closed_timestamp</th>\n    </tr>\n  </thead>\n  <tbody>\n    <tr>\n      <th>1</th>\n      <td>login0</td>\n      <td>190563850.0</td>\n      <td>4.0</td>\n      <td>2017-04-20 12:09:39</td>\n      <td>2017-04-20 13:13:01</td>\n      <td>1492679379</td>\n      <td>1492683181</td>\n    </tr>\n    <tr>\n      <th>2</th>\n      <td>login0</td>\n      <td>190561754.0</td>\n      <td>1.0</td>\n      <td>2017-04-20 12:10:30</td>\n      <td>2017-04-20 12:28:29</td>\n      <td>1492679430</td>\n      <td>1492680509</td>\n    </tr>\n    <tr>\n      <th>3</th>\n      <td>login0</td>\n      <td>190565906.0</td>\n      <td>4.0</td>\n      <td>2017-04-20 12:21:31</td>\n      <td>2017-04-20 13:30:10</td>\n      <td>1492680091</td>\n      <td>1492684210</td>\n    </tr>\n  </tbody>\n</table>\n</div>"
     },
     "metadata": {},
     "execution_count": 9
    }
   ],
   "source": [
    "data.head(3)"
   ]
  },
  {
   "cell_type": "code",
   "execution_count": 10,
   "metadata": {},
   "outputs": [
    {
     "output_type": "execute_result",
     "data": {
      "text/plain": [
       "767"
      ]
     },
     "metadata": {},
     "execution_count": 10
    }
   ],
   "source": [
    "data.login.nunique()"
   ]
  },
  {
   "cell_type": "code",
   "execution_count": 11,
   "metadata": {},
   "outputs": [
    {
     "output_type": "execute_result",
     "data": {
      "text/plain": [
       "635044"
      ]
     },
     "metadata": {},
     "execution_count": 11
    }
   ],
   "source": [
    "data.tid.nunique()"
   ]
  },
  {
   "source": [
    "701827 Строка\n",
    "\n",
    "767 Уникальных логин\n",
    "\n",
    "641515 Уникальных заданий"
   ],
   "cell_type": "markdown",
   "metadata": {}
  },
  {
   "cell_type": "code",
   "execution_count": 12,
   "metadata": {},
   "outputs": [],
   "source": [
    "data.tid = pd.to_numeric(data.tid, downcast='integer')\n",
    "data.Microtasks = pd.to_numeric(data.Microtasks, downcast='integer')"
   ]
  },
  {
   "cell_type": "code",
   "execution_count": 13,
   "metadata": {},
   "outputs": [
    {
     "output_type": "execute_result",
     "data": {
      "text/plain": [
       "           login        tid  Microtasks          assigned_ts  \\\n",
       "701823  login766  195656026           1  2017-05-15 15:53:27   \n",
       "701824  login766  195656174           1  2017-05-15 15:53:33   \n",
       "701825  login766  195656466           1  2017-05-15 15:53:38   \n",
       "701826  login766  195656336           3  2017-05-15 15:54:18   \n",
       "701827  login766  195656078           2  2017-05-15 15:54:59   \n",
       "\n",
       "                  closed_ts  assigned_timestamp  closed_timestamp  \n",
       "701823  2017-05-15 16:16:56          1494852807        1494854216  \n",
       "701824  2017-05-15 16:21:53          1494852813        1494854513  \n",
       "701825  2017-05-15 16:23:41          1494852818        1494854621  \n",
       "701826  2017-05-15 16:32:11          1494852858        1494855131  \n",
       "701827  2017-05-15 16:17:32          1494852899        1494854252  "
      ],
      "text/html": "<div>\n<style scoped>\n    .dataframe tbody tr th:only-of-type {\n        vertical-align: middle;\n    }\n\n    .dataframe tbody tr th {\n        vertical-align: top;\n    }\n\n    .dataframe thead th {\n        text-align: right;\n    }\n</style>\n<table border=\"1\" class=\"dataframe\">\n  <thead>\n    <tr style=\"text-align: right;\">\n      <th></th>\n      <th>login</th>\n      <th>tid</th>\n      <th>Microtasks</th>\n      <th>assigned_ts</th>\n      <th>closed_ts</th>\n      <th>assigned_timestamp</th>\n      <th>closed_timestamp</th>\n    </tr>\n  </thead>\n  <tbody>\n    <tr>\n      <th>701823</th>\n      <td>login766</td>\n      <td>195656026</td>\n      <td>1</td>\n      <td>2017-05-15 15:53:27</td>\n      <td>2017-05-15 16:16:56</td>\n      <td>1494852807</td>\n      <td>1494854216</td>\n    </tr>\n    <tr>\n      <th>701824</th>\n      <td>login766</td>\n      <td>195656174</td>\n      <td>1</td>\n      <td>2017-05-15 15:53:33</td>\n      <td>2017-05-15 16:21:53</td>\n      <td>1494852813</td>\n      <td>1494854513</td>\n    </tr>\n    <tr>\n      <th>701825</th>\n      <td>login766</td>\n      <td>195656466</td>\n      <td>1</td>\n      <td>2017-05-15 15:53:38</td>\n      <td>2017-05-15 16:23:41</td>\n      <td>1494852818</td>\n      <td>1494854621</td>\n    </tr>\n    <tr>\n      <th>701826</th>\n      <td>login766</td>\n      <td>195656336</td>\n      <td>3</td>\n      <td>2017-05-15 15:54:18</td>\n      <td>2017-05-15 16:32:11</td>\n      <td>1494852858</td>\n      <td>1494855131</td>\n    </tr>\n    <tr>\n      <th>701827</th>\n      <td>login766</td>\n      <td>195656078</td>\n      <td>2</td>\n      <td>2017-05-15 15:54:59</td>\n      <td>2017-05-15 16:17:32</td>\n      <td>1494852899</td>\n      <td>1494854252</td>\n    </tr>\n  </tbody>\n</table>\n</div>"
     },
     "metadata": {},
     "execution_count": 13
    }
   ],
   "source": [
    "data.tail()"
   ]
  },
  {
   "cell_type": "code",
   "execution_count": 14,
   "metadata": {},
   "outputs": [],
   "source": [
    "new_data = data\n",
    "new_data = new_data.drop(['assigned_ts', 'closed_ts'], axis=1)"
   ]
  },
  {
   "cell_type": "code",
   "execution_count": 15,
   "metadata": {},
   "outputs": [
    {
     "output_type": "execute_result",
     "data": {
      "text/plain": [
       "    login        tid  Microtasks  assigned_timestamp  closed_timestamp\n",
       "1  login0  190563850           4          1492679379        1492683181\n",
       "2  login0  190561754           1          1492679430        1492680509\n",
       "3  login0  190565906           4          1492680091        1492684210\n",
       "4  login0  190560246           1          1492680510        1492683236\n",
       "5  login0  190562168           2          1492680522        1492683290"
      ],
      "text/html": "<div>\n<style scoped>\n    .dataframe tbody tr th:only-of-type {\n        vertical-align: middle;\n    }\n\n    .dataframe tbody tr th {\n        vertical-align: top;\n    }\n\n    .dataframe thead th {\n        text-align: right;\n    }\n</style>\n<table border=\"1\" class=\"dataframe\">\n  <thead>\n    <tr style=\"text-align: right;\">\n      <th></th>\n      <th>login</th>\n      <th>tid</th>\n      <th>Microtasks</th>\n      <th>assigned_timestamp</th>\n      <th>closed_timestamp</th>\n    </tr>\n  </thead>\n  <tbody>\n    <tr>\n      <th>1</th>\n      <td>login0</td>\n      <td>190563850</td>\n      <td>4</td>\n      <td>1492679379</td>\n      <td>1492683181</td>\n    </tr>\n    <tr>\n      <th>2</th>\n      <td>login0</td>\n      <td>190561754</td>\n      <td>1</td>\n      <td>1492679430</td>\n      <td>1492680509</td>\n    </tr>\n    <tr>\n      <th>3</th>\n      <td>login0</td>\n      <td>190565906</td>\n      <td>4</td>\n      <td>1492680091</td>\n      <td>1492684210</td>\n    </tr>\n    <tr>\n      <th>4</th>\n      <td>login0</td>\n      <td>190560246</td>\n      <td>1</td>\n      <td>1492680510</td>\n      <td>1492683236</td>\n    </tr>\n    <tr>\n      <th>5</th>\n      <td>login0</td>\n      <td>190562168</td>\n      <td>2</td>\n      <td>1492680522</td>\n      <td>1492683290</td>\n    </tr>\n  </tbody>\n</table>\n</div>"
     },
     "metadata": {},
     "execution_count": 15
    }
   ],
   "source": [
    "new_data.head()"
   ]
  },
  {
   "cell_type": "code",
   "execution_count": 16,
   "metadata": {},
   "outputs": [
    {
     "output_type": "execute_result",
     "data": {
      "text/plain": [
       "(701827, 5)"
      ]
     },
     "metadata": {},
     "execution_count": 16
    }
   ],
   "source": [
    "new_data.shape"
   ]
  },
  {
   "cell_type": "code",
   "execution_count": 17,
   "metadata": {},
   "outputs": [],
   "source": [
    "new_data['task_completion_time'] = (new_data.closed_timestamp - new_data.assigned_timestamp) / new_data.Microtasks"
   ]
  },
  {
   "cell_type": "code",
   "execution_count": 18,
   "metadata": {},
   "outputs": [
    {
     "output_type": "execute_result",
     "data": {
      "text/plain": [
       "           login        tid  Microtasks  assigned_timestamp  closed_timestamp  \\\n",
       "1         login0  190563850           4          1492679379        1492683181   \n",
       "2         login0  190561754           1          1492679430        1492680509   \n",
       "3         login0  190565906           4          1492680091        1492684210   \n",
       "4         login0  190560246           1          1492680510        1492683236   \n",
       "5         login0  190562168           2          1492680522        1492683290   \n",
       "...          ...        ...         ...                 ...               ...   \n",
       "701823  login766  195656026           1          1494852807        1494854216   \n",
       "701824  login766  195656174           1          1494852813        1494854513   \n",
       "701825  login766  195656466           1          1494852818        1494854621   \n",
       "701826  login766  195656336           3          1494852858        1494855131   \n",
       "701827  login766  195656078           2          1494852899        1494854252   \n",
       "\n",
       "        task_completion_time  \n",
       "1                 950.500000  \n",
       "2                1079.000000  \n",
       "3                1029.750000  \n",
       "4                2726.000000  \n",
       "5                1384.000000  \n",
       "...                      ...  \n",
       "701823           1409.000000  \n",
       "701824           1700.000000  \n",
       "701825           1803.000000  \n",
       "701826            757.666667  \n",
       "701827            676.500000  \n",
       "\n",
       "[701827 rows x 6 columns]"
      ],
      "text/html": "<div>\n<style scoped>\n    .dataframe tbody tr th:only-of-type {\n        vertical-align: middle;\n    }\n\n    .dataframe tbody tr th {\n        vertical-align: top;\n    }\n\n    .dataframe thead th {\n        text-align: right;\n    }\n</style>\n<table border=\"1\" class=\"dataframe\">\n  <thead>\n    <tr style=\"text-align: right;\">\n      <th></th>\n      <th>login</th>\n      <th>tid</th>\n      <th>Microtasks</th>\n      <th>assigned_timestamp</th>\n      <th>closed_timestamp</th>\n      <th>task_completion_time</th>\n    </tr>\n  </thead>\n  <tbody>\n    <tr>\n      <th>1</th>\n      <td>login0</td>\n      <td>190563850</td>\n      <td>4</td>\n      <td>1492679379</td>\n      <td>1492683181</td>\n      <td>950.500000</td>\n    </tr>\n    <tr>\n      <th>2</th>\n      <td>login0</td>\n      <td>190561754</td>\n      <td>1</td>\n      <td>1492679430</td>\n      <td>1492680509</td>\n      <td>1079.000000</td>\n    </tr>\n    <tr>\n      <th>3</th>\n      <td>login0</td>\n      <td>190565906</td>\n      <td>4</td>\n      <td>1492680091</td>\n      <td>1492684210</td>\n      <td>1029.750000</td>\n    </tr>\n    <tr>\n      <th>4</th>\n      <td>login0</td>\n      <td>190560246</td>\n      <td>1</td>\n      <td>1492680510</td>\n      <td>1492683236</td>\n      <td>2726.000000</td>\n    </tr>\n    <tr>\n      <th>5</th>\n      <td>login0</td>\n      <td>190562168</td>\n      <td>2</td>\n      <td>1492680522</td>\n      <td>1492683290</td>\n      <td>1384.000000</td>\n    </tr>\n    <tr>\n      <th>...</th>\n      <td>...</td>\n      <td>...</td>\n      <td>...</td>\n      <td>...</td>\n      <td>...</td>\n      <td>...</td>\n    </tr>\n    <tr>\n      <th>701823</th>\n      <td>login766</td>\n      <td>195656026</td>\n      <td>1</td>\n      <td>1494852807</td>\n      <td>1494854216</td>\n      <td>1409.000000</td>\n    </tr>\n    <tr>\n      <th>701824</th>\n      <td>login766</td>\n      <td>195656174</td>\n      <td>1</td>\n      <td>1494852813</td>\n      <td>1494854513</td>\n      <td>1700.000000</td>\n    </tr>\n    <tr>\n      <th>701825</th>\n      <td>login766</td>\n      <td>195656466</td>\n      <td>1</td>\n      <td>1494852818</td>\n      <td>1494854621</td>\n      <td>1803.000000</td>\n    </tr>\n    <tr>\n      <th>701826</th>\n      <td>login766</td>\n      <td>195656336</td>\n      <td>3</td>\n      <td>1494852858</td>\n      <td>1494855131</td>\n      <td>757.666667</td>\n    </tr>\n    <tr>\n      <th>701827</th>\n      <td>login766</td>\n      <td>195656078</td>\n      <td>2</td>\n      <td>1494852899</td>\n      <td>1494854252</td>\n      <td>676.500000</td>\n    </tr>\n  </tbody>\n</table>\n<p>701827 rows × 6 columns</p>\n</div>"
     },
     "metadata": {},
     "execution_count": 18
    }
   ],
   "source": [
    "new_data"
   ]
  },
  {
   "source": [
    "new_data.task_completion_time = new_data.task_completion_time.astype('int64')"
   ],
   "cell_type": "code",
   "metadata": {},
   "execution_count": 19,
   "outputs": []
  },
  {
   "cell_type": "code",
   "execution_count": 20,
   "metadata": {},
   "outputs": [
    {
     "output_type": "execute_result",
     "data": {
      "text/plain": [
       "           login        tid  Microtasks  assigned_timestamp  closed_timestamp  \\\n",
       "534454  login585  197340894           1          1495631586        1495630857   \n",
       "151273  login139  196400390          13          1495290002        1495290025   \n",
       "153222  login139  198396915          42          1496270061        1496270138   \n",
       "315282  login328  168095766           9          1494507962        1494507979   \n",
       "474138  login517  192276632           8          1493271629        1493271645   \n",
       "...          ...        ...         ...                 ...               ...   \n",
       "292152  login300  195582430           1          1494992429        1495598224   \n",
       "291835  login300  195502918           1          1495078543        1495696540   \n",
       "292160  login300  195502918           1          1495078543        1495696540   \n",
       "603972  login657  195642338           1          1494992480        1496066636   \n",
       "603631  login657  195642338           1          1494992480        1496066636   \n",
       "\n",
       "        task_completion_time  \n",
       "534454                  -729  \n",
       "151273                     1  \n",
       "153222                     1  \n",
       "315282                     1  \n",
       "474138                     2  \n",
       "...                      ...  \n",
       "292152                605795  \n",
       "291835                617997  \n",
       "292160                617997  \n",
       "603972               1074156  \n",
       "603631               1074156  \n",
       "\n",
       "[701827 rows x 6 columns]"
      ],
      "text/html": "<div>\n<style scoped>\n    .dataframe tbody tr th:only-of-type {\n        vertical-align: middle;\n    }\n\n    .dataframe tbody tr th {\n        vertical-align: top;\n    }\n\n    .dataframe thead th {\n        text-align: right;\n    }\n</style>\n<table border=\"1\" class=\"dataframe\">\n  <thead>\n    <tr style=\"text-align: right;\">\n      <th></th>\n      <th>login</th>\n      <th>tid</th>\n      <th>Microtasks</th>\n      <th>assigned_timestamp</th>\n      <th>closed_timestamp</th>\n      <th>task_completion_time</th>\n    </tr>\n  </thead>\n  <tbody>\n    <tr>\n      <th>534454</th>\n      <td>login585</td>\n      <td>197340894</td>\n      <td>1</td>\n      <td>1495631586</td>\n      <td>1495630857</td>\n      <td>-729</td>\n    </tr>\n    <tr>\n      <th>151273</th>\n      <td>login139</td>\n      <td>196400390</td>\n      <td>13</td>\n      <td>1495290002</td>\n      <td>1495290025</td>\n      <td>1</td>\n    </tr>\n    <tr>\n      <th>153222</th>\n      <td>login139</td>\n      <td>198396915</td>\n      <td>42</td>\n      <td>1496270061</td>\n      <td>1496270138</td>\n      <td>1</td>\n    </tr>\n    <tr>\n      <th>315282</th>\n      <td>login328</td>\n      <td>168095766</td>\n      <td>9</td>\n      <td>1494507962</td>\n      <td>1494507979</td>\n      <td>1</td>\n    </tr>\n    <tr>\n      <th>474138</th>\n      <td>login517</td>\n      <td>192276632</td>\n      <td>8</td>\n      <td>1493271629</td>\n      <td>1493271645</td>\n      <td>2</td>\n    </tr>\n    <tr>\n      <th>...</th>\n      <td>...</td>\n      <td>...</td>\n      <td>...</td>\n      <td>...</td>\n      <td>...</td>\n      <td>...</td>\n    </tr>\n    <tr>\n      <th>292152</th>\n      <td>login300</td>\n      <td>195582430</td>\n      <td>1</td>\n      <td>1494992429</td>\n      <td>1495598224</td>\n      <td>605795</td>\n    </tr>\n    <tr>\n      <th>291835</th>\n      <td>login300</td>\n      <td>195502918</td>\n      <td>1</td>\n      <td>1495078543</td>\n      <td>1495696540</td>\n      <td>617997</td>\n    </tr>\n    <tr>\n      <th>292160</th>\n      <td>login300</td>\n      <td>195502918</td>\n      <td>1</td>\n      <td>1495078543</td>\n      <td>1495696540</td>\n      <td>617997</td>\n    </tr>\n    <tr>\n      <th>603972</th>\n      <td>login657</td>\n      <td>195642338</td>\n      <td>1</td>\n      <td>1494992480</td>\n      <td>1496066636</td>\n      <td>1074156</td>\n    </tr>\n    <tr>\n      <th>603631</th>\n      <td>login657</td>\n      <td>195642338</td>\n      <td>1</td>\n      <td>1494992480</td>\n      <td>1496066636</td>\n      <td>1074156</td>\n    </tr>\n  </tbody>\n</table>\n<p>701827 rows × 6 columns</p>\n</div>"
     },
     "metadata": {},
     "execution_count": 20
    }
   ],
   "source": [
    "new_data.sort_values(['task_completion_time'])"
   ]
  },
  {
   "source": [
    "Ошибка в данных в 534454 строке. Задание сдал, раньше чем начал. Ошибка в 12 минут 9 секунд"
   ],
   "cell_type": "markdown",
   "metadata": {}
  },
  {
   "cell_type": "code",
   "execution_count": 21,
   "metadata": {},
   "outputs": [
    {
     "output_type": "execute_result",
     "data": {
      "text/plain": [
       "           login        tid  Microtasks          assigned_ts  \\\n",
       "534454  login585  197340894           1  2017-05-24 16:13:06   \n",
       "\n",
       "                  closed_ts  assigned_timestamp  closed_timestamp  \n",
       "534454  2017-05-24 16:00:57          1495631586        1495630857  "
      ],
      "text/html": "<div>\n<style scoped>\n    .dataframe tbody tr th:only-of-type {\n        vertical-align: middle;\n    }\n\n    .dataframe tbody tr th {\n        vertical-align: top;\n    }\n\n    .dataframe thead th {\n        text-align: right;\n    }\n</style>\n<table border=\"1\" class=\"dataframe\">\n  <thead>\n    <tr style=\"text-align: right;\">\n      <th></th>\n      <th>login</th>\n      <th>tid</th>\n      <th>Microtasks</th>\n      <th>assigned_ts</th>\n      <th>closed_ts</th>\n      <th>assigned_timestamp</th>\n      <th>closed_timestamp</th>\n    </tr>\n  </thead>\n  <tbody>\n    <tr>\n      <th>534454</th>\n      <td>login585</td>\n      <td>197340894</td>\n      <td>1</td>\n      <td>2017-05-24 16:13:06</td>\n      <td>2017-05-24 16:00:57</td>\n      <td>1495631586</td>\n      <td>1495630857</td>\n    </tr>\n  </tbody>\n</table>\n</div>"
     },
     "metadata": {},
     "execution_count": 21
    }
   ],
   "source": [
    "data.filter(like='534454', axis=0)"
   ]
  },
  {
   "source": [
    "Среднее количество потраченного времени на одно задание с ошибочной строкой"
   ],
   "cell_type": "markdown",
   "metadata": {}
  },
  {
   "cell_type": "code",
   "execution_count": 22,
   "metadata": {},
   "outputs": [
    {
     "output_type": "execute_result",
     "data": {
      "text/plain": [
       "567.9705853436816"
      ]
     },
     "metadata": {},
     "execution_count": 22
    }
   ],
   "source": [
    "new_data.task_completion_time.mean()"
   ]
  },
  {
   "cell_type": "code",
   "execution_count": 23,
   "metadata": {},
   "outputs": [],
   "source": [
    "new_drop_data = new_data"
   ]
  },
  {
   "cell_type": "code",
   "execution_count": 24,
   "metadata": {},
   "outputs": [],
   "source": [
    "new_drop_data = new_drop_data.drop([534454])"
   ]
  },
  {
   "source": [
    "Среднее количество потраченного времени на одно задание без ошибочной строки"
   ],
   "cell_type": "markdown",
   "metadata": {}
  },
  {
   "cell_type": "code",
   "execution_count": 25,
   "metadata": {},
   "outputs": [
    {
     "output_type": "execute_result",
     "data": {
      "text/plain": [
       "567.9724333381779"
      ]
     },
     "metadata": {},
     "execution_count": 25
    }
   ],
   "source": [
    "new_drop_data.task_completion_time.mean()"
   ]
  }
 ]
}